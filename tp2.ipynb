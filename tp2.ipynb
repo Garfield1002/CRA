{
 "cells": [
  {
   "cell_type": "markdown",
   "metadata": {},
   "source": [
    "# Analyse differentielle de midori"
   ]
  },
  {
   "cell_type": "code",
   "execution_count": 1,
   "metadata": {},
   "outputs": [],
   "source": [
    "from midori64 import *\n",
    "import midori64_c\n",
    "from tqdm.notebook import trange, tqdm\n",
    "import random\n",
    "from termcolor import colored\n",
    "import math\n",
    "import pickle"
   ]
  },
  {
   "cell_type": "markdown",
   "metadata": {},
   "source": [
    "## Utilities"
   ]
  },
  {
   "cell_type": "markdown",
   "metadata": {},
   "source": [
    "Adds dark mode to `tqdm` progress bars"
   ]
  },
  {
   "cell_type": "code",
   "execution_count": 2,
   "metadata": {
    "vscode": {
     "languageId": "html"
    }
   },
   "outputs": [
    {
     "data": {
      "text/html": [
       "<style>\n",
       ".cell-output-ipywidget-background {\n",
       "    background-color: transparent !important;\n",
       "}\n",
       ":root {\n",
       "    --jp-widgets-color: var(--vscode-editor-foreground);\n",
       "    --jp-widgets-font-size: var(--vscode-editor-font-size);\n",
       "}\n",
       "</style>\n"
      ],
      "text/plain": [
       "<IPython.core.display.HTML object>"
      ]
     },
     "metadata": {},
     "output_type": "display_data"
    }
   ],
   "source": [
    "%%html\n",
    "<style>\n",
    ".cell-output-ipywidget-background {\n",
    "    background-color: transparent !important;\n",
    "}\n",
    ":root {\n",
    "    --jp-widgets-color: var(--vscode-editor-foreground);\n",
    "    --jp-widgets-font-size: var(--vscode-editor-font-size);\n",
    "}\n",
    "</style>"
   ]
  },
  {
   "cell_type": "markdown",
   "metadata": {},
   "source": [
    "Determinism is good"
   ]
  },
  {
   "cell_type": "code",
   "execution_count": 3,
   "metadata": {},
   "outputs": [],
   "source": [
    "random.seed(0xdead)"
   ]
  },
  {
   "cell_type": "markdown",
   "metadata": {},
   "source": [
    "Utility for drawing heatmaps"
   ]
  },
  {
   "cell_type": "code",
   "execution_count": 4,
   "metadata": {},
   "outputs": [],
   "source": [
    "def ascii_heatmap(data: list[list[int]], threshold_1=None, threshold_2=None, threshold_3=None) -> str:\n",
    "    ret = ''\n",
    "\n",
    "    for row in data:\n",
    "        for el in row:\n",
    "            c = '░'\n",
    "            if threshold_1 is not None and threshold_1(el):\n",
    "                c = '▒'\n",
    "            if threshold_2 is not None and threshold_2(el):\n",
    "                c = '▓'\n",
    "            if threshold_3 is not None and threshold_3(el):\n",
    "                c = '█'\n",
    "            ret += c + ' '\n",
    "        ret += '\\n'\n",
    "\n",
    "    return ret"
   ]
  },
  {
   "cell_type": "markdown",
   "metadata": {},
   "source": [
    "## Question 1"
   ]
  },
  {
   "cell_type": "markdown",
   "metadata": {},
   "source": [
    "Here is an array containing midori's DDT"
   ]
  },
  {
   "cell_type": "code",
   "execution_count": 5,
   "metadata": {},
   "outputs": [
    {
     "data": {
      "text/plain": [
       "[[16, 0, 0, 0, 0, 0, 0, 0, 0, 0, 0, 0, 0, 0, 0, 0],\n",
       " [0, 2, 4, 0, 2, 2, 2, 0, 2, 0, 0, 0, 0, 0, 2, 0],\n",
       " [0, 4, 0, 0, 4, 0, 0, 0, 0, 4, 0, 0, 4, 0, 0, 0],\n",
       " [0, 0, 0, 0, 2, 0, 4, 2, 2, 2, 0, 0, 0, 2, 0, 2],\n",
       " [0, 2, 4, 2, 2, 2, 0, 0, 2, 0, 0, 2, 0, 0, 0, 0],\n",
       " [0, 2, 0, 0, 2, 0, 0, 4, 0, 2, 4, 0, 2, 0, 0, 0],\n",
       " [0, 2, 0, 4, 0, 0, 0, 2, 2, 0, 0, 0, 2, 2, 0, 2],\n",
       " [0, 0, 0, 2, 0, 4, 2, 0, 0, 0, 0, 2, 0, 4, 2, 0],\n",
       " [0, 2, 0, 2, 2, 0, 2, 0, 0, 2, 0, 2, 2, 0, 2, 0],\n",
       " [0, 0, 4, 2, 0, 2, 0, 0, 2, 2, 0, 2, 2, 0, 0, 0],\n",
       " [0, 0, 0, 0, 0, 4, 0, 0, 0, 0, 4, 0, 0, 4, 0, 4],\n",
       " [0, 0, 0, 0, 2, 0, 0, 2, 2, 2, 0, 4, 0, 2, 0, 2],\n",
       " [0, 0, 4, 0, 0, 2, 2, 0, 2, 2, 0, 0, 2, 0, 2, 0],\n",
       " [0, 0, 0, 2, 0, 0, 2, 4, 0, 0, 4, 2, 0, 0, 2, 0],\n",
       " [0, 2, 0, 0, 0, 0, 0, 2, 2, 0, 0, 0, 2, 2, 4, 2],\n",
       " [0, 0, 0, 2, 0, 0, 2, 0, 0, 0, 4, 2, 0, 0, 2, 4]]"
      ]
     },
     "execution_count": 5,
     "metadata": {},
     "output_type": "execute_result"
    }
   ],
   "source": [
    "DDT = [[0 for _ in range(16)] for _ in range(16)]\n",
    "\n",
    "for x in range(16):\n",
    "    for y in range(16):\n",
    "        DDT[x ^ y][S_BOX[x] ^ S_BOX[y]] += 1\n",
    "\n",
    "DDT"
   ]
  },
  {
   "cell_type": "markdown",
   "metadata": {},
   "source": [
    "Here's a more visual representation"
   ]
  },
  {
   "cell_type": "code",
   "execution_count": 6,
   "metadata": {},
   "outputs": [
    {
     "name": "stdout",
     "output_type": "stream",
     "text": [
      "█ ░ ░ ░ ░ ░ ░ ░ ░ ░ ░ ░ ░ ░ ░ ░ \n",
      "░ ▒ █ ░ ▒ ▒ ▒ ░ ▒ ░ ░ ░ ░ ░ ▒ ░ \n",
      "░ █ ░ ░ █ ░ ░ ░ ░ █ ░ ░ █ ░ ░ ░ \n",
      "░ ░ ░ ░ ▒ ░ █ ▒ ▒ ▒ ░ ░ ░ ▒ ░ ▒ \n",
      "░ ▒ █ ▒ ▒ ▒ ░ ░ ▒ ░ ░ ▒ ░ ░ ░ ░ \n",
      "░ ▒ ░ ░ ▒ ░ ░ █ ░ ▒ █ ░ ▒ ░ ░ ░ \n",
      "░ ▒ ░ █ ░ ░ ░ ▒ ▒ ░ ░ ░ ▒ ▒ ░ ▒ \n",
      "░ ░ ░ ▒ ░ █ ▒ ░ ░ ░ ░ ▒ ░ █ ▒ ░ \n",
      "░ ▒ ░ ▒ ▒ ░ ▒ ░ ░ ▒ ░ ▒ ▒ ░ ▒ ░ \n",
      "░ ░ █ ▒ ░ ▒ ░ ░ ▒ ▒ ░ ▒ ▒ ░ ░ ░ \n",
      "░ ░ ░ ░ ░ █ ░ ░ ░ ░ █ ░ ░ █ ░ █ \n",
      "░ ░ ░ ░ ▒ ░ ░ ▒ ▒ ▒ ░ █ ░ ▒ ░ ▒ \n",
      "░ ░ █ ░ ░ ▒ ▒ ░ ▒ ▒ ░ ░ ▒ ░ ▒ ░ \n",
      "░ ░ ░ ▒ ░ ░ ▒ █ ░ ░ █ ▒ ░ ░ ▒ ░ \n",
      "░ ▒ ░ ░ ░ ░ ░ ▒ ▒ ░ ░ ░ ▒ ▒ █ ▒ \n",
      "░ ░ ░ ▒ ░ ░ ▒ ░ ░ ░ █ ▒ ░ ░ ▒ █ \n",
      "\n",
      "Legend\n",
      "\t- ░ >= 0\n",
      "\t- ▒ >= 2\n",
      "\t- █ >= 4\n"
     ]
    }
   ],
   "source": [
    "print(ascii_heatmap(\n",
    "    DDT,\n",
    "    threshold_1=lambda x: x == 2,\n",
    "    threshold_3=lambda x: x >= 4,\n",
    "))\n",
    "\n",
    "print('Legend\\n\\t- ░ >= 0\\n\\t- ▒ >= 2\\n\\t- █ >= 4')"
   ]
  },
  {
   "cell_type": "markdown",
   "metadata": {},
   "source": [
    "## Question 2"
   ]
  },
  {
   "cell_type": "markdown",
   "metadata": {},
   "source": [
    "Find the best differential for this schema\n",
    "\n",
    "![](./images/png/midori_square_attack5_dark.drawio.png)"
   ]
  },
  {
   "cell_type": "markdown",
   "metadata": {},
   "source": [
    "Let's consider what happens in the `mixColumn`\n",
    "\n",
    "$$\n",
    "\n",
    "\\begin{pmatrix}\n",
    "0 & 1 & 1 & 1 \\\\\n",
    "1 & 0 & 1 & 1 \\\\\n",
    "1 & 1 & 0 & 1 \\\\\n",
    "1 & 1 & 1 & 0 \\\\\n",
    "\\end{pmatrix}\n",
    "\\begin{pmatrix}\n",
    "0 \\\\\n",
    "0 \\\\\n",
    "\\delta_1 \\\\\n",
    "\\delta_2 \\\\\n",
    "\\end{pmatrix}\n",
    "=\n",
    "\\begin{pmatrix}\n",
    "0 \\\\\n",
    "0 \\\\\n",
    "\\delta_2 \\\\\n",
    "\\delta_1 \\\\\n",
    "\\end{pmatrix}\n",
    "$$\n",
    "\n",
    "To preserve the pattern, we want $\\delta_1 = \\delta_2$ at the entry of `mixColumns`.\n",
    "\n",
    "<!-- Because of the key, we want $SB(x) \\oplus k_3 = SB(y) \\oplus k_4$ -->"
   ]
  },
  {
   "cell_type": "markdown",
   "metadata": {},
   "source": [
    "All our states share the same none null values, we note this value $\\delta_i$ in state $\\Delta_i$. The area of this difference is colored in white in the graph.\n",
    "\n",
    "For example\n",
    "$$\n",
    "\\Delta_1 = \\delta_1 \\times\n",
    "\\begin{pmatrix}\n",
    "0 & 0 & 0 & 0 \\\\\n",
    "0 & 1 & 0 & 0 \\\\\n",
    "0 & 0 & 0 & 0 \\\\\n",
    "0 & 0 & 0 & 1 \\\\\n",
    "\\end{pmatrix}\n",
    "$$"
   ]
  },
  {
   "cell_type": "markdown",
   "metadata": {},
   "source": [
    "We need to find a _likely_ path where the differences going into `mixColumns`. By looking into our DDT, we notice that the column 2 has many 4 and many zeros. If we fix $\\delta_1$ to 2, using the DDT we can calculate $\\delta_2$:\n",
    "- 1 with probability $\\left(\\frac{1}{4}\\right)^2 = 0.0625$, we then get $1 = \\delta_3 = \\delta_4 = \\delta_5$, we can then arrive back to $\\delta_6= 2$ with probability $\\left(\\frac{1}{4}\\right)^2 = 0.0625$\n",
    "- 4 with probability $0.0625$ we then get $4 = \\delta_3 = \\delta_4 = \\delta_5$, we can then arrive back to $\\delta_6 = 2$ with probability $0.0625$\n",
    "- 9 with probability $0.0625$ we then get $9 = \\delta_3 = \\delta_4 = \\delta_5$, we can then arrive back to $\\delta_6 = 2$ with probability $0.0625$\n",
    "- 12 with probability $0.0625$ we then get $12 = \\delta_3 = \\delta_4 = \\delta_5$, we can then arrive back to $\\delta_6 = 2$ with probability $0.0625$\n",
    "\n",
    "This gives us a final probability of\n",
    "$$\n",
    "P(\\Delta_6) = 4 \\times \\left(\\frac{1}{4}\\right)^4 = 1.6\\%\n",
    "$$"
   ]
  },
  {
   "cell_type": "markdown",
   "metadata": {},
   "source": [
    "## Question 3\n"
   ]
  },
  {
   "cell_type": "markdown",
   "metadata": {},
   "source": [
    "Evaluer experimentalement cette probabilité"
   ]
  },
  {
   "cell_type": "markdown",
   "metadata": {},
   "source": [
    "Here's our modified round with an extra `subCell` at the end"
   ]
  },
  {
   "cell_type": "code",
   "execution_count": 7,
   "metadata": {},
   "outputs": [],
   "source": [
    "def modified_round(msg: list[int], key: list[int]) -> list[int]:\n",
    "    ct = subCell(msg)\n",
    "    ct = shuffleCell(ct)\n",
    "    ct = mixColumns(ct)\n",
    "    ct = addRoundKey(ct, key)\n",
    "    ct = subCell(ct)\n",
    "    return ct"
   ]
  },
  {
   "cell_type": "markdown",
   "metadata": {},
   "source": [
    "The pattern we are interested in is\n",
    "$$\n",
    "\\begin{pmatrix}\n",
    "0 & 0 & 0 & 0 \\\\\n",
    "0 & 0 & 0 & 0 \\\\\n",
    "\\delta_\\text{out} & 0 & 0 & 0 \\\\\n",
    "\\delta_\\text{out} & 0 & 0 & 0 \\\\\n",
    "\\end{pmatrix}\n",
    "$$"
   ]
  },
  {
   "cell_type": "code",
   "execution_count": 8,
   "metadata": {},
   "outputs": [],
   "source": [
    "def has_pattern(ct1, ct2):\n",
    "    ret = True\n",
    "    for i in range(16):\n",
    "        match i:\n",
    "            case 2:\n",
    "                ret = ret and (ct1[2] ^ ct2[2] == ct1[3] ^ ct2[3])\n",
    "            case 3:\n",
    "                pass\n",
    "            case _:\n",
    "                ret = ret and ct1[i] == ct2[i]\n",
    "    return ret"
   ]
  },
  {
   "cell_type": "markdown",
   "metadata": {},
   "source": [
    "Generates random messages and keys and count how often a $\\delta_\\text{in}, \\, \\delta_\\text{out}$ pair appears."
   ]
  },
  {
   "cell_type": "code",
   "execution_count": 9,
   "metadata": {},
   "outputs": [
    {
     "data": {
      "application/vnd.jupyter.widget-view+json": {
       "model_id": "4ed98a2fbbc246cd802c0fd28ff2fcb6",
       "version_major": 2,
       "version_minor": 0
      },
      "text/plain": [
       "  0%|          | 0/15 [00:00<?, ?it/s]"
      ]
     },
     "metadata": {},
     "output_type": "display_data"
    }
   ],
   "source": [
    "ITERATIONS = 10_000\n",
    "\n",
    "score = [[0 for _ in range(16)] for _ in range(16)]\n",
    "\n",
    "for delta in trange(1, 16):\n",
    "    for _ in range(ITERATIONS):\n",
    "        key = [random.randint(0, 15) for _ in range(16)]\n",
    "        m1 = [random.randint(0, 15) for _ in range(16)]\n",
    "        m2 = [x for x in m1]\n",
    "        m2[5] ^= delta\n",
    "        m2[15] ^= delta\n",
    "\n",
    "\n",
    "        ct1 = modified_round(m1, key)\n",
    "        ct2 = modified_round(m2, key)\n",
    "\n",
    "        if has_pattern(ct1, ct2):\n",
    "            score[delta][ct1[2] ^ ct2[2]] += 1"
   ]
  },
  {
   "cell_type": "code",
   "execution_count": 11,
   "metadata": {},
   "outputs": [
    {
     "name": "stdout",
     "output_type": "stream",
     "text": [
      "░ ░ ░ ░ ░ ░ ░ ░ ░ ░ ░ ░ ░ ░ ░ ░ \n",
      "░ ░ ░ ░ ░ ░ ░ ░ ░ ░ ░ ░ ░ ░ ░ ░ \n",
      "░ ░ █ ░ ░ ░ ░ ░ ░ ░ ░ ░ ░ ░ ░ ░ \n",
      "░ ░ ░ ░ ░ ░ ░ ░ ░ ░ ░ ░ ░ ░ ░ ░ \n",
      "░ ░ ░ ░ ░ ░ ░ ░ ░ ░ ░ ░ ░ ░ ░ ░ \n",
      "░ ░ ░ ░ ░ ░ ░ ░ ░ ░ ░ ░ ░ ░ ░ ░ \n",
      "░ ░ ░ ░ ░ ░ ░ ░ ░ ░ ░ ░ ░ ░ ░ ░ \n",
      "░ ░ ░ ░ ░ ░ ░ ░ ░ ░ ░ ░ ░ ░ ░ ░ \n",
      "░ ░ ░ ░ ░ ░ ░ ░ ░ ░ ░ ░ ░ ░ ░ ░ \n",
      "░ ░ ░ ░ ░ ░ ░ ░ ░ ░ ░ ░ ░ ░ ░ ░ \n",
      "░ ░ ░ ░ ░ ░ ░ ░ ░ ░ █ ░ ░ ░ ░ ░ \n",
      "░ ░ ░ ░ ░ ░ ░ ░ ░ ░ ░ ░ ░ ░ ░ ░ \n",
      "░ ░ ░ ░ ░ ░ ░ ░ ░ ░ ░ ░ ░ ░ ░ ░ \n",
      "░ ░ ░ ░ ░ ░ ░ ░ ░ ░ ░ ░ ░ ░ ░ ░ \n",
      "░ ░ ░ ░ ░ ░ ░ ░ ░ ░ ░ ░ ░ ░ ░ ░ \n",
      "░ ░ ░ ░ ░ ░ ░ ░ ░ ░ ░ ░ ░ ░ ░ ░ \n",
      "\n",
      "Found probabilities:\n",
      "\t- delta_in=2 and delta_out=2 probability=1.42%\n",
      "\t- delta_in=10 and delta_out=10 probability=1.43%\n"
     ]
    }
   ],
   "source": [
    "m = max([score[y][x] for x in range(16) for y in range(16)])\n",
    "probabilities_string = ''\n",
    "\n",
    "for y in range(len(score)):\n",
    "    for x in range(len(score[y])):\n",
    "        if score[y][x] >= 0.8 * m:\n",
    "            probabilities_string += f'\\n\\t- delta_in={y} and delta_out={x} probability={score[y][x] / ITERATIONS * 100:.2f}%'\n",
    "\n",
    "\n",
    "print(ascii_heatmap(score, threshold_3=lambda x: x >= 0.8 * m))\n",
    "print(f'Found probabilities:{probabilities_string}')"
   ]
  },
  {
   "cell_type": "markdown",
   "metadata": {},
   "source": [
    "We find a value close to the expected probability of $1.6\\%$"
   ]
  },
  {
   "cell_type": "markdown",
   "metadata": {},
   "source": [
    "## Question 4"
   ]
  },
  {
   "cell_type": "code",
   "execution_count": 12,
   "metadata": {},
   "outputs": [],
   "source": [
    "random.seed(0xdeadbeef)\n",
    "\n",
    "keys = [\n",
    "    [random.randint(0, 15) for _ in range(16)]\n",
    "    for _ in range(10)\n",
    "]"
   ]
  },
  {
   "cell_type": "markdown",
   "metadata": {},
   "source": [
    "This is the diagram of the cipher we want to attack. Light cells are active\n",
    "\n",
    "![](./images/png/midori_square_attack6.drawio.png)"
   ]
  },
  {
   "cell_type": "markdown",
   "metadata": {},
   "source": [
    "We first need to retrieve couples $(P, C)$. We can optimize our code here by storing these couples in a hash table indexed by the inactive nibbles of $C$ and containing as values the active nibbles of $P$"
   ]
  },
  {
   "cell_type": "code",
   "execution_count": 13,
   "metadata": {},
   "outputs": [],
   "source": [
    "def enc(m, ks):\n",
    "    ct = [x for x in m]\n",
    "    ct = addRoundKey(ct, ks[0])\n",
    "\n",
    "    ct = subCell(ct)\n",
    "    ct = shuffleCell(ct)\n",
    "    ct = mixColumns(ct)\n",
    "    ct = addRoundKey(ct, ks[1])\n",
    "\n",
    "    ct = subCell(ct)\n",
    "    ct = shuffleCell(ct)\n",
    "    ct = mixColumns(ct)\n",
    "    ct = addRoundKey(ct, ks[2])\n",
    "\n",
    "    ct = subCell(ct)\n",
    "    ct = shuffleCell(ct)\n",
    "    ct = mixColumns(ct)\n",
    "    ct = addRoundKey(ct, ks[3])\n",
    "    \n",
    "    ct = subCell(ct)\n",
    "    ct = addRoundKey(ct , ks[4])\n",
    "    return ct"
   ]
  },
  {
   "cell_type": "markdown",
   "metadata": {},
   "source": [
    "Generates a key for the hash table for a given cipher text. We store messages that share the non active nibbles inside of a hash table"
   ]
  },
  {
   "cell_type": "code",
   "execution_count": 23,
   "metadata": {},
   "outputs": [],
   "source": [
    "def get_key(ct: list[int]) -> str:\n",
    "    l = []\n",
    "    for i in [0, 1, 2, 3, 4, 5, 6, 7, 9, 14]:\n",
    "        l.append(ct[i])\n",
    "    return str(l)"
   ]
  },
  {
   "cell_type": "markdown",
   "metadata": {},
   "source": [
    "We can fix a message and modify only certain active nibbles (see figure)."
   ]
  },
  {
   "cell_type": "code",
   "execution_count": 24,
   "metadata": {},
   "outputs": [],
   "source": [
    "msg = [random.randint(0, 15) for _ in range(16)]"
   ]
  },
  {
   "cell_type": "markdown",
   "metadata": {},
   "source": [
    "Computing these message ciphers is expensive, so instead these messages can be cached and retrieved from `./midori_data.pkl`."
   ]
  },
  {
   "cell_type": "code",
   "execution_count": 25,
   "metadata": {},
   "outputs": [],
   "source": [
    "with open('./midori_data.pkl', 'rb') as f:\n",
    "    hash_table = pickle.load(f)"
   ]
  },
  {
   "cell_type": "code",
   "execution_count": null,
   "metadata": {},
   "outputs": [],
   "source": [
    "%%script false\n",
    "\n",
    "hash_table: dict[str, list[int]] = {}\n",
    "\n",
    "nibbles = [(n1, n2, n3, n4, n5, n6)\n",
    "           for n1 in range(16)\n",
    "           for n2 in range(16)\n",
    "           for n3 in range(16)\n",
    "           for n4 in range(16)\n",
    "           for n5 in range(16)\n",
    "           for n6 in range(16)\n",
    "           ]\n",
    "\n",
    "for (n1, n2, n3, n4, n5, n6) in tqdm(nibbles):\n",
    "    if random.random() < 0.8:\n",
    "        continue\n",
    "\n",
    "    m = [x for x in msg]\n",
    "\n",
    "    m[1] = n1\n",
    "    m[2] = n2\n",
    "    m[7] = n3\n",
    "    m[11] = n4\n",
    "    m[13] = n5\n",
    "    m[14] = n6\n",
    "\n",
    "    # ct = enc(m, keys)\n",
    "    ct = midori64_c.encrypt_differential(m, keys)\n",
    "\n",
    "    ct1 = ct[8]\n",
    "    ct2 = ct[10]\n",
    "    ct3 = ct[11]\n",
    "    ct4 = ct[12]\n",
    "    ct5 = ct[13]\n",
    "    ct6 = ct[15]\n",
    "\n",
    "    # if has_pattern_differential(m):\n",
    "    # couples.append([n1, n2, n3, n4, n5, n6, ct1, ct2, ct3, ct4, ct5, ct6])\n",
    "    delta = get_key(ct)\n",
    "    if delta in hash_table:\n",
    "        hash_table[delta].append([n1, n2, n3, n4, n5, n6, ct1, ct2, ct3, ct4, ct5, ct6])\n",
    "    else:\n",
    "        hash_table[delta] = [[n1, n2, n3, n4, n5, n6, ct1, ct2, ct3, ct4, ct5, ct6]]\n",
    "\n",
    "with open('midori_data.pkl', 'wb') as f:\n",
    "    pickle.dump(hash_table, f)"
   ]
  },
  {
   "cell_type": "markdown",
   "metadata": {},
   "source": [
    "This function lists valid key nibbles for a given message pair"
   ]
  },
  {
   "cell_type": "code",
   "execution_count": 26,
   "metadata": {},
   "outputs": [],
   "source": [
    "def get_key_guess(n1: list[int], n2: list[int]) -> [str]:\n",
    "\n",
    "    for i in range(12):\n",
    "        if n1[i] == n2[i]:\n",
    "            return []\n",
    "\n",
    "    ret = []\n",
    "\n",
    "    for k1 in range(16):\n",
    "        if S_BOX[n1[0] ^ k1] ^ S_BOX[n2[0] ^ k1] != 2:\n",
    "            continue\n",
    "\n",
    "        for k2 in range(16):\n",
    "            if S_BOX[n1[1] ^ k2] ^ S_BOX[n2[1] ^ k2] != 2:\n",
    "                continue\n",
    "\n",
    "            for k3 in range(16):\n",
    "                if S_BOX[n1[2] ^ k3] ^ S_BOX[n2[2] ^ k3] != 2:\n",
    "                    continue\n",
    "\n",
    "                for k4 in range(16):\n",
    "                    if S_BOX[n1[3] ^ k4] ^ S_BOX[n2[3] ^ k4] != 2:\n",
    "                        continue\n",
    "\n",
    "                    for k5 in range(16):\n",
    "                        if S_BOX[n1[4] ^ k5] ^ S_BOX[n2[4] ^ k5] != 2:\n",
    "                            continue\n",
    "\n",
    "                        for k6 in range(16):\n",
    "                            if S_BOX[n1[5] ^ k6] ^ S_BOX[n2[5] ^ k6] != 2:\n",
    "                                continue\n",
    "\n",
    "                            for k7 in range(16):\n",
    "                                if S_BOX[n1[6] ^ k7] ^ S_BOX[n2[6] ^ k7] != 2:\n",
    "                                    continue\n",
    "\n",
    "                                for k8 in range(16):\n",
    "                                    if S_BOX[n1[7] ^ k8] ^ S_BOX[n2[7] ^ k8] != 2:\n",
    "                                        continue\n",
    "\n",
    "                                    for k9 in range(16):\n",
    "                                        if S_BOX[n1[8] ^ k9] ^ S_BOX[n2[8] ^ k9] != 2:\n",
    "                                            continue\n",
    "\n",
    "                                        for k10 in range(16):\n",
    "                                            if S_BOX[n1[9] ^ k10] ^ S_BOX[n2[9] ^ k10] != 2:\n",
    "                                                continue\n",
    "\n",
    "                                            for k11 in range(16):\n",
    "                                                if S_BOX[n1[10] ^ k11] ^ S_BOX[n2[10] ^ k11] != 2:\n",
    "                                                    continue\n",
    "\n",
    "                                                for k12 in range(16):\n",
    "                                                    if S_BOX[n1[11] ^ k12] ^ S_BOX[n2[11] ^ k12] != 2:\n",
    "                                                        continue\n",
    "                                                    ret.append(str([k1, k2, k3, k4, k5, k6, k7, k8, k9, k10, k11, k12]))\n",
    "                                                    # return ret\n",
    "\n",
    "    return ret"
   ]
  },
  {
   "cell_type": "markdown",
   "metadata": {},
   "source": [
    "We now find valid key pairs for each message pair. For performance reasons it might be important to stop the script when the program `\"Found a key pair with 2 guesses\"`"
   ]
  },
  {
   "cell_type": "code",
   "execution_count": 37,
   "metadata": {},
   "outputs": [
    {
     "data": {
      "application/vnd.jupyter.widget-view+json": {
       "model_id": "08e4a957ec41489ba2e3ba68cf48f66a",
       "version_major": 2,
       "version_minor": 0
      },
      "text/plain": [
       "  0%|          | 0/1018972 [00:00<?, ?it/s]"
      ]
     },
     "metadata": {},
     "output_type": "display_data"
    },
    {
     "name": "stdout",
     "output_type": "stream",
     "text": [
      "Found a key pair with 1 guesses\n",
      "Found a key pair with 2 guesses\n"
     ]
    },
    {
     "ename": "KeyboardInterrupt",
     "evalue": "",
     "output_type": "error",
     "traceback": [
      "\u001b[0;31m---------------------------------------------------------------------------\u001b[0m",
      "\u001b[0;31mKeyboardInterrupt\u001b[0m                         Traceback (most recent call last)",
      "Cell \u001b[0;32mIn[37], line 26\u001b[0m\n\u001b[1;32m     24\u001b[0m     key_guesses[key_guess] \u001b[38;5;241m+\u001b[39m\u001b[38;5;241m=\u001b[39m \u001b[38;5;241m1\u001b[39m\n\u001b[1;32m     25\u001b[0m \u001b[38;5;28;01melse\u001b[39;00m:\n\u001b[0;32m---> 26\u001b[0m     key_guesses[key_guess] \u001b[38;5;241m=\u001b[39m \u001b[38;5;241m1\u001b[39m\n",
      "\u001b[0;31mKeyboardInterrupt\u001b[0m: "
     ]
    }
   ],
   "source": [
    "key_guesses = {}\n",
    "\n",
    "threshold = 1\n",
    "\n",
    "hash_table_keys = list(hash_table.keys())\n",
    "\n",
    "random.shuffle(hash_table_keys)\n",
    "\n",
    "for nibbles in tqdm(hash_table_keys):\n",
    "    nibs = hash_table[nibbles]\n",
    "    for i in range(len(nibs)):\n",
    "        for j in range(i + 1, len(nibs)):\n",
    "            n1 = nibs[i]\n",
    "            n2 = nibs[j]\n",
    "\n",
    "            key_guess_arr = get_key_guess(n1, n2)\n",
    "\n",
    "            for key_guess in key_guess_arr:\n",
    "                if key_guess in key_guesses:\n",
    "                    if key_guesses[key_guess] >= threshold:\n",
    "                        print(f'Found a key pair with {threshold + 1} guesses')\n",
    "                        threshold += 1\n",
    "\n",
    "                    key_guesses[key_guess] += 1\n",
    "                else:\n",
    "                    key_guesses[key_guess] = 1"
   ]
  },
  {
   "cell_type": "markdown",
   "metadata": {},
   "source": [
    "The entry for the correct message"
   ]
  },
  {
   "cell_type": "code",
   "execution_count": 38,
   "metadata": {},
   "outputs": [
    {
     "data": {
      "text/plain": [
       "'[13, 15, 12, 8, 8, 8, 4, 15, 3, 13, 13, 14]'"
      ]
     },
     "execution_count": 38,
     "metadata": {},
     "output_type": "execute_result"
    }
   ],
   "source": [
    "CORRECT_KEY_ENTRY = str([keys[0][1], keys[0][2], keys[0][7], keys[0][11], keys[0][13], keys[0][14], keys[4][8], keys[4][10], keys[4][11], keys[4][12], keys[4][13], keys[4][15]])\n",
    "CORRECT_KEY_ENTRY"
   ]
  },
  {
   "cell_type": "markdown",
   "metadata": {},
   "source": [
    "We then find how many times this ke guess appeared"
   ]
  },
  {
   "cell_type": "code",
   "execution_count": 39,
   "metadata": {},
   "outputs": [
    {
     "data": {
      "text/plain": [
       "3"
      ]
     },
     "execution_count": 39,
     "metadata": {},
     "output_type": "execute_result"
    }
   ],
   "source": [
    "CORRECT_KEY_GUESSES = key_guesses['[13, 15, 12, 8, 8, 8, 4, 15, 3, 13, 13, 14]']\n",
    "CORRECT_KEY_GUESSES"
   ]
  },
  {
   "cell_type": "markdown",
   "metadata": {},
   "source": [
    "We then look at how many keys we guessed."
   ]
  },
  {
   "cell_type": "code",
   "execution_count": 40,
   "metadata": {},
   "outputs": [
    {
     "name": "stdout",
     "output_type": "stream",
     "text": [
      "The maximum amount of times a key was guessed was 3\n",
      " The correct key was guessed 3 times\n",
      "Out of the 2^26 key guesses, 2^13 reached the maximum value\n"
     ]
    },
    {
     "data": {
      "text/plain": [
       "(3, '[13, 13, 12, 8, 8, 8, 4, 13, 1, 13, 4, 12]', 109063947, 8192)"
      ]
     },
     "execution_count": 40,
     "metadata": {},
     "output_type": "execute_result"
    }
   ],
   "source": [
    "m, GUESSED_KEY = 1, ''\n",
    "count = 0\n",
    "stat2 = 0\n",
    "\n",
    "for k in key_guesses:\n",
    "    count += key_guesses[k]\n",
    "\n",
    "    if key_guesses[k] == m:\n",
    "        stat2 += 1\n",
    "\n",
    "    if key_guesses[k] > m:\n",
    "        m = key_guesses[k]\n",
    "        GUESSED_KEY = k\n",
    "        stat2 = 1\n",
    "\n",
    "\n",
    "print(f'The maximum amount of times a key was guessed was {m}\\nThe correct key was guessed {CORRECT_KEY_GUESSES} times\\nOut of the 2^{int(math.log2(count))} key guesses, 2^{int(math.log2(stat2))} reached the maximum value')"
   ]
  }
 ],
 "metadata": {
  "kernelspec": {
   "display_name": ".venv",
   "language": "python",
   "name": "python3"
  },
  "language_info": {
   "codemirror_mode": {
    "name": "ipython",
    "version": 3
   },
   "file_extension": ".py",
   "mimetype": "text/x-python",
   "name": "python",
   "nbconvert_exporter": "python",
   "pygments_lexer": "ipython3",
   "version": "3.11.7"
  }
 },
 "nbformat": 4,
 "nbformat_minor": 2
}
