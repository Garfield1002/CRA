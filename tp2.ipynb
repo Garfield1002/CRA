{
 "cells": [
  {
   "cell_type": "markdown",
   "metadata": {},
   "source": [
    "# Analyse differentielle de midori"
   ]
  },
  {
   "cell_type": "code",
   "execution_count": 1,
   "metadata": {},
   "outputs": [],
   "source": [
    "from midori64 import *\n",
    "import midori64_c\n",
    "from tqdm.notebook import trange, tqdm\n",
    "import random\n",
    "from termcolor import colored\n",
    "import math"
   ]
  },
  {
   "cell_type": "markdown",
   "metadata": {},
   "source": [
    "## Utilities"
   ]
  },
  {
   "cell_type": "code",
   "execution_count": 2,
   "metadata": {
    "vscode": {
     "languageId": "html"
    }
   },
   "outputs": [
    {
     "data": {
      "text/html": [
       "<style>\n",
       ".cell-output-ipywidget-background {\n",
       "    background-color: transparent !important;\n",
       "}\n",
       ":root {\n",
       "    --jp-widgets-color: var(--vscode-editor-foreground);\n",
       "    --jp-widgets-font-size: var(--vscode-editor-font-size);\n",
       "}\n",
       "</style>\n"
      ],
      "text/plain": [
       "<IPython.core.display.HTML object>"
      ]
     },
     "metadata": {},
     "output_type": "display_data"
    }
   ],
   "source": [
    "%%html\n",
    "<style>\n",
    ".cell-output-ipywidget-background {\n",
    "    background-color: transparent !important;\n",
    "}\n",
    ":root {\n",
    "    --jp-widgets-color: var(--vscode-editor-foreground);\n",
    "    --jp-widgets-font-size: var(--vscode-editor-font-size);\n",
    "}\n",
    "</style>"
   ]
  },
  {
   "cell_type": "markdown",
   "metadata": {},
   "source": [
    "Determinism is good"
   ]
  },
  {
   "cell_type": "code",
   "execution_count": 3,
   "metadata": {},
   "outputs": [],
   "source": [
    "random.seed(0xdead)"
   ]
  },
  {
   "cell_type": "markdown",
   "metadata": {},
   "source": [
    "Utility for drawing heatmaps"
   ]
  },
  {
   "cell_type": "code",
   "execution_count": 4,
   "metadata": {},
   "outputs": [],
   "source": [
    "def ascii_heatmap(data: list[list[int]], threshold_1=None, threshold_2=None, threshold_3=None) -> str:\n",
    "    ret = ''\n",
    "\n",
    "    for row in data:\n",
    "        for el in row:\n",
    "            c = '░'\n",
    "            if threshold_1 is not None and threshold_1(el):\n",
    "                c = '▒'\n",
    "            if threshold_2 is not None and threshold_2(el):\n",
    "                c = '▓'\n",
    "            if threshold_3 is not None and threshold_3(el):\n",
    "                c = '█'\n",
    "            ret += c + ' '\n",
    "        ret += '\\n'\n",
    "\n",
    "    return ret"
   ]
  },
  {
   "cell_type": "markdown",
   "metadata": {},
   "source": [
    "## Question 1"
   ]
  },
  {
   "cell_type": "markdown",
   "metadata": {},
   "source": [
    "Calculer la DDT de Midori"
   ]
  },
  {
   "cell_type": "code",
   "execution_count": 5,
   "metadata": {},
   "outputs": [
    {
     "data": {
      "text/plain": [
       "[[16, 0, 0, 0, 0, 0, 0, 0, 0, 0, 0, 0, 0, 0, 0, 0],\n",
       " [0, 2, 4, 0, 2, 2, 2, 0, 2, 0, 0, 0, 0, 0, 2, 0],\n",
       " [0, 4, 0, 0, 4, 0, 0, 0, 0, 4, 0, 0, 4, 0, 0, 0],\n",
       " [0, 0, 0, 0, 2, 0, 4, 2, 2, 2, 0, 0, 0, 2, 0, 2],\n",
       " [0, 2, 4, 2, 2, 2, 0, 0, 2, 0, 0, 2, 0, 0, 0, 0],\n",
       " [0, 2, 0, 0, 2, 0, 0, 4, 0, 2, 4, 0, 2, 0, 0, 0],\n",
       " [0, 2, 0, 4, 0, 0, 0, 2, 2, 0, 0, 0, 2, 2, 0, 2],\n",
       " [0, 0, 0, 2, 0, 4, 2, 0, 0, 0, 0, 2, 0, 4, 2, 0],\n",
       " [0, 2, 0, 2, 2, 0, 2, 0, 0, 2, 0, 2, 2, 0, 2, 0],\n",
       " [0, 0, 4, 2, 0, 2, 0, 0, 2, 2, 0, 2, 2, 0, 0, 0],\n",
       " [0, 0, 0, 0, 0, 4, 0, 0, 0, 0, 4, 0, 0, 4, 0, 4],\n",
       " [0, 0, 0, 0, 2, 0, 0, 2, 2, 2, 0, 4, 0, 2, 0, 2],\n",
       " [0, 0, 4, 0, 0, 2, 2, 0, 2, 2, 0, 0, 2, 0, 2, 0],\n",
       " [0, 0, 0, 2, 0, 0, 2, 4, 0, 0, 4, 2, 0, 0, 2, 0],\n",
       " [0, 2, 0, 0, 0, 0, 0, 2, 2, 0, 0, 0, 2, 2, 4, 2],\n",
       " [0, 0, 0, 2, 0, 0, 2, 0, 0, 0, 4, 2, 0, 0, 2, 4]]"
      ]
     },
     "execution_count": 5,
     "metadata": {},
     "output_type": "execute_result"
    }
   ],
   "source": [
    "DDT = [[0 for _ in range(16)] for _ in range(16)]\n",
    "\n",
    "for x in range(16):\n",
    "    for y in range(16):\n",
    "        DDT[x ^ y][S_BOX[x] ^ S_BOX[y]] += 1\n",
    "\n",
    "DDT"
   ]
  },
  {
   "cell_type": "markdown",
   "metadata": {},
   "source": [
    "Here's a more visual representation"
   ]
  },
  {
   "cell_type": "code",
   "execution_count": 6,
   "metadata": {},
   "outputs": [
    {
     "name": "stdout",
     "output_type": "stream",
     "text": [
      "█ ░ ░ ░ ░ ░ ░ ░ ░ ░ ░ ░ ░ ░ ░ ░ \n",
      "░ ▒ █ ░ ▒ ▒ ▒ ░ ▒ ░ ░ ░ ░ ░ ▒ ░ \n",
      "░ █ ░ ░ █ ░ ░ ░ ░ █ ░ ░ █ ░ ░ ░ \n",
      "░ ░ ░ ░ ▒ ░ █ ▒ ▒ ▒ ░ ░ ░ ▒ ░ ▒ \n",
      "░ ▒ █ ▒ ▒ ▒ ░ ░ ▒ ░ ░ ▒ ░ ░ ░ ░ \n",
      "░ ▒ ░ ░ ▒ ░ ░ █ ░ ▒ █ ░ ▒ ░ ░ ░ \n",
      "░ ▒ ░ █ ░ ░ ░ ▒ ▒ ░ ░ ░ ▒ ▒ ░ ▒ \n",
      "░ ░ ░ ▒ ░ █ ▒ ░ ░ ░ ░ ▒ ░ █ ▒ ░ \n",
      "░ ▒ ░ ▒ ▒ ░ ▒ ░ ░ ▒ ░ ▒ ▒ ░ ▒ ░ \n",
      "░ ░ █ ▒ ░ ▒ ░ ░ ▒ ▒ ░ ▒ ▒ ░ ░ ░ \n",
      "░ ░ ░ ░ ░ █ ░ ░ ░ ░ █ ░ ░ █ ░ █ \n",
      "░ ░ ░ ░ ▒ ░ ░ ▒ ▒ ▒ ░ █ ░ ▒ ░ ▒ \n",
      "░ ░ █ ░ ░ ▒ ▒ ░ ▒ ▒ ░ ░ ▒ ░ ▒ ░ \n",
      "░ ░ ░ ▒ ░ ░ ▒ █ ░ ░ █ ▒ ░ ░ ▒ ░ \n",
      "░ ▒ ░ ░ ░ ░ ░ ▒ ▒ ░ ░ ░ ▒ ▒ █ ▒ \n",
      "░ ░ ░ ▒ ░ ░ ▒ ░ ░ ░ █ ▒ ░ ░ ▒ █ \n",
      "\n",
      "Legend\n",
      "\t- ░ >= 0\n",
      "\t- ▒ >= 2\n",
      "\t- █ >= 4\n"
     ]
    }
   ],
   "source": [
    "print(ascii_heatmap(\n",
    "    DDT,\n",
    "    threshold_1=lambda x: x == 2,\n",
    "    threshold_3=lambda x: x >= 4,\n",
    "))\n",
    "\n",
    "print('Legend\\n\\t- ░ >= 0\\n\\t- ▒ >= 2\\n\\t- █ >= 4')"
   ]
  },
  {
   "cell_type": "markdown",
   "metadata": {},
   "source": [
    "## Question 2"
   ]
  },
  {
   "cell_type": "markdown",
   "metadata": {},
   "source": [
    "Trouver la meilleur differentiel pour ce chemin\n",
    "\n",
    "![](./images/png/midori_square_attack5_dark.drawio.png)"
   ]
  },
  {
   "cell_type": "markdown",
   "metadata": {},
   "source": [
    "Let's consider what happens in the `mixColumn`\n",
    "\n",
    "$$\n",
    "\n",
    "\\begin{pmatrix}\n",
    "0 & 1 & 1 & 1 \\\\\n",
    "1 & 0 & 1 & 1 \\\\\n",
    "1 & 1 & 0 & 1 \\\\\n",
    "1 & 1 & 1 & 0 \\\\\n",
    "\\end{pmatrix}\n",
    "\\begin{pmatrix}\n",
    "0 \\\\\n",
    "0 \\\\\n",
    "\\delta_1 \\\\\n",
    "\\delta_2 \\\\\n",
    "\\end{pmatrix}\n",
    "=\n",
    "\\begin{pmatrix}\n",
    "0 \\\\\n",
    "0 \\\\\n",
    "\\delta_2 \\\\\n",
    "\\delta_1 \\\\\n",
    "\\end{pmatrix}\n",
    "$$\n",
    "\n",
    "To preserve the pattern, we want $\\delta_1 = \\delta_2$ at the entry of `mixColumns`.\n",
    "\n",
    "<!-- Because of the key, we want $SB(x) \\oplus k_3 = SB(y) \\oplus k_4$ -->"
   ]
  },
  {
   "cell_type": "markdown",
   "metadata": {},
   "source": [
    "All our states share the same none null values, we note this value $\\delta_i$ in state $\\Delta_i$. The area of this difference is colored in white in the graph."
   ]
  },
  {
   "cell_type": "markdown",
   "metadata": {},
   "source": [
    "We need to find a _likely_ path where the differences going into `mixColumns`. By looking into our DDT, we notice that the column 2 has many 4 and many zeros. If we fix $\\delta_1$ to 2, using the DDT we can calculate $\\delta_2$:\n",
    "- 1 with probability $\\left(\\frac{1}{4}\\right)^2 = 0.0625$, we then get $1 = \\delta_3 = \\delta_4 = \\delta_5$, we can then arrive back to $\\delta_6= 2$ with probability $\\left(\\frac{1}{4}\\right)^2 = 0.0625$\n",
    "- 4 with probability $0.0625$ we then get $4 = \\delta_3 = \\delta_4 = \\delta_5$, we can then arrive back to $\\delta_6 = 2$ with probability $0.0625$\n",
    "- 9 with probability $0.0625$ we then get $9 = \\delta_3 = \\delta_4 = \\delta_5$, we can then arrive back to $\\delta_6 = 2$ with probability $0.0625$\n",
    "- 12 with probability $0.0625$ we then get $12 = \\delta_3 = \\delta_4 = \\delta_5$, we can then arrive back to $\\delta_6 = 2$ with probability $0.0625$\n",
    "\n",
    "This gives us a final probability of\n",
    "$$\n",
    "P(\\Delta_6) = 4 \\times \\left(\\frac{1}{4}\\right)^4 = 1.6\\%\n",
    "$$"
   ]
  },
  {
   "cell_type": "markdown",
   "metadata": {},
   "source": [
    "## Question 3\n"
   ]
  },
  {
   "cell_type": "markdown",
   "metadata": {},
   "source": [
    "Evaluer experimentalement cette probabilité"
   ]
  },
  {
   "cell_type": "markdown",
   "metadata": {},
   "source": [
    "Here's our modified round with an extra `subCell` at the end"
   ]
  },
  {
   "cell_type": "code",
   "execution_count": 7,
   "metadata": {},
   "outputs": [],
   "source": [
    "def modified_round(msg: list[int], key: list[int]) -> list[int]:\n",
    "    ct = subCell(msg)\n",
    "    ct = shuffleCell(ct)\n",
    "    ct = mixColumns(ct)\n",
    "    ct = addRoundKey(ct, key)\n",
    "    ct = subCell(ct)\n",
    "    return ct"
   ]
  },
  {
   "cell_type": "markdown",
   "metadata": {},
   "source": [
    "The pattern we are interested in is\n",
    "$$\n",
    "\\begin{pmatrix}\n",
    "0 & 0 & 0 & 0 \\\\\n",
    "0 & 0 & 0 & 0 \\\\\n",
    "\\delta_\\text{out} & 0 & 0 & 0 \\\\\n",
    "\\delta_\\text{out} & 0 & 0 & 0 \\\\\n",
    "\\end{pmatrix}\n",
    "$$"
   ]
  },
  {
   "cell_type": "code",
   "execution_count": 8,
   "metadata": {},
   "outputs": [],
   "source": [
    "def has_pattern(ct1, ct2):\n",
    "    ret = True\n",
    "    for i in range(16):\n",
    "        match i:\n",
    "            case 2:\n",
    "                ret = ret and (ct1[2] ^ ct2[2] == ct1[3] ^ ct2[3])\n",
    "            case 3:\n",
    "                pass\n",
    "            case _:\n",
    "                ret = ret and ct1[i] == ct2[i]\n",
    "    return ret"
   ]
  },
  {
   "cell_type": "code",
   "execution_count": 9,
   "metadata": {},
   "outputs": [
    {
     "data": {
      "application/vnd.jupyter.widget-view+json": {
       "model_id": "d5252b3b45a44d138092a520a7304d47",
       "version_major": 2,
       "version_minor": 0
      },
      "text/plain": [
       "  0%|          | 0/15 [00:00<?, ?it/s]"
      ]
     },
     "metadata": {},
     "output_type": "display_data"
    }
   ],
   "source": [
    "ITERATIONS = 10_000\n",
    "\n",
    "score = [[0 for _ in range(16)] for _ in range(16)]\n",
    "\n",
    "for delta in trange(1, 16):\n",
    "    for _ in range(ITERATIONS):\n",
    "        key = [random.randint(0, 15) for _ in range(16)]\n",
    "        m1 = [random.randint(0, 15) for _ in range(16)]\n",
    "        m2 = [x for x in m1]\n",
    "        m2[5] ^= delta\n",
    "        m2[15] ^= delta\n",
    "\n",
    "\n",
    "        ct1 = modified_round(m1, key)\n",
    "        ct2 = modified_round(m2, key)\n",
    "\n",
    "        if has_pattern(ct1, ct2):\n",
    "            score[delta][ct1[2] ^ ct2[2]] += 1"
   ]
  },
  {
   "cell_type": "code",
   "execution_count": 10,
   "metadata": {},
   "outputs": [
    {
     "name": "stdout",
     "output_type": "stream",
     "text": [
      "░ ░ ░ ░ ░ ░ ░ ░ ░ ░ ░ ░ ░ ░ ░ ░ \n",
      "░ ░ ░ ░ ░ ░ ░ ░ ░ ░ ░ ░ ░ ░ ░ ░ \n",
      "░ ░ █ ░ ░ ░ ░ ░ ░ ░ ░ ░ ░ ░ ░ ░ \n",
      "░ ░ ░ ░ ░ ░ ░ ░ ░ ░ ░ ░ ░ ░ ░ ░ \n",
      "░ ░ ░ ░ ░ ░ ░ ░ ░ ░ ░ ░ ░ ░ ░ ░ \n",
      "░ ░ ░ ░ ░ ░ ░ ░ ░ ░ ░ ░ ░ ░ ░ ░ \n",
      "░ ░ ░ ░ ░ ░ ░ ░ ░ ░ ░ ░ ░ ░ ░ ░ \n",
      "░ ░ ░ ░ ░ ░ ░ ░ ░ ░ ░ ░ ░ ░ ░ ░ \n",
      "░ ░ ░ ░ ░ ░ ░ ░ ░ ░ ░ ░ ░ ░ ░ ░ \n",
      "░ ░ ░ ░ ░ ░ ░ ░ ░ ░ ░ ░ ░ ░ ░ ░ \n",
      "░ ░ ░ ░ ░ ░ ░ ░ ░ ░ █ ░ ░ ░ ░ ░ \n",
      "░ ░ ░ ░ ░ ░ ░ ░ ░ ░ ░ ░ ░ ░ ░ ░ \n",
      "░ ░ ░ ░ ░ ░ ░ ░ ░ ░ ░ ░ ░ ░ ░ ░ \n",
      "░ ░ ░ ░ ░ ░ ░ ░ ░ ░ ░ ░ ░ ░ ░ ░ \n",
      "░ ░ ░ ░ ░ ░ ░ ░ ░ ░ ░ ░ ░ ░ ░ ░ \n",
      "░ ░ ░ ░ ░ ░ ░ ░ ░ ░ ░ ░ ░ ░ ░ ░ \n",
      "\n",
      "Found probabilities:\n",
      "\t- delta_in=2 and delta_out=2 probability=1.42%\n",
      "\t- delta_in=10 and delta_out=10 probability=1.43%\n"
     ]
    }
   ],
   "source": [
    "m = max([score[y][x] for x in range(16) for y in range(16)])\n",
    "probabilities_string = ''\n",
    "\n",
    "for y in range(len(score)):\n",
    "    for x in range(len(score[y])):\n",
    "        if score[y][x] >= 0.8 * m:\n",
    "            probabilities_string += f'\\n\\t- delta_in={y} and delta_out={x} probability={score[y][x] / ITERATIONS * 100:.2f}%'\n",
    "\n",
    "\n",
    "print(ascii_heatmap(score, threshold_3=lambda x: x >= 0.8 * m))\n",
    "print(f'Found probabilities:{probabilities_string}')"
   ]
  },
  {
   "cell_type": "markdown",
   "metadata": {},
   "source": [
    "We find a value close to the expected probability of $1.6\\%$"
   ]
  },
  {
   "cell_type": "markdown",
   "metadata": {},
   "source": [
    "## Question 4"
   ]
  },
  {
   "cell_type": "code",
   "execution_count": 11,
   "metadata": {},
   "outputs": [],
   "source": [
    "random.seed(0xdeadbeef)\n",
    "\n",
    "keys = [\n",
    "    [random.randint(0, 15) for _ in range(16)]\n",
    "    for _ in range(10)\n",
    "]"
   ]
  },
  {
   "cell_type": "markdown",
   "metadata": {},
   "source": [
    "Attack!\n",
    "\n",
    "![](./images/png/midori_square_attack6_dark.drawio.png)"
   ]
  },
  {
   "cell_type": "markdown",
   "metadata": {},
   "source": [
    "We first need to retrieve couples $(P, C)$. We can optimize our code here by storing these couples in a hash table indexed by the inactive nibbles of $C$ and containing as values the active nibbles of $P$"
   ]
  },
  {
   "cell_type": "code",
   "execution_count": 35,
   "metadata": {},
   "outputs": [],
   "source": [
    "def enc(m, ks):\n",
    "    ct = addRoundKey(m, ks[0])\n",
    "\n",
    "    ct = subCell(ct)\n",
    "    ct = shuffleCell(ct)\n",
    "    ct = mixColumns(ct)\n",
    "    ct = addRoundKey(ct, ks[1])\n",
    "    ct = subCell(ct)\n",
    "    ct = shuffleCell(ct)\n",
    "    ct = mixColumns(ct)\n",
    "    ct = addRoundKey(ct, ks[2])\n",
    "    ct = subCell(ct)\n",
    "    ct = shuffleCell(ct)\n",
    "    ct = mixColumns(ct)\n",
    "    ct = addRoundKey(ct, ks[3])\n",
    "    ct = subCell(ct)\n",
    "    ct = addRoundKey(ct , ks[4])\n",
    "    return ct"
   ]
  },
  {
   "cell_type": "code",
   "execution_count": 40,
   "metadata": {},
   "outputs": [],
   "source": [
    "for _ in range(1000):\n",
    "    m = [i for i in range(16)]\n",
    "    ks = [[random.randint(0, 15) for _ in range(16)] for _ in range(10)]\n",
    "    assert enc(m, ks) == midori64_c.encrypt_differential(m, ks)"
   ]
  },
  {
   "cell_type": "code",
   "execution_count": 27,
   "metadata": {},
   "outputs": [
    {
     "data": {
      "text/plain": [
       "[0, 0, 0, 0, 0, 2, 0, 0, 0, 0, 0, 0, 0, 0, 0, 2]"
      ]
     },
     "execution_count": 27,
     "metadata": {},
     "output_type": "execute_result"
    }
   ],
   "source": [
    "m0 = [0 for _ in range(16)]\n",
    "m0[1] = 2\n",
    "m0[2] = 2\n",
    "m0[7] = 2\n",
    "m0[11] = 2\n",
    "m0[13] = 2\n",
    "m0[14] = 2\n",
    "\n",
    "mixColumns(shuffleCell(m0))"
   ]
  },
  {
   "cell_type": "code",
   "execution_count": 12,
   "metadata": {},
   "outputs": [],
   "source": [
    "hash_table: dict[str, list[int]] = {}"
   ]
  },
  {
   "cell_type": "code",
   "execution_count": 13,
   "metadata": {},
   "outputs": [],
   "source": [
    "def has_pattern_differential(ct: list[int]) -> bool:\n",
    "    ret = True\n",
    "    for i in range(16):\n",
    "        if i in [8, 10, 11, 12, 13, 15]:\n",
    "            ret = ret and ct[i] == 2\n",
    "        else:\n",
    "            ret = ret and ct[i] == 0"
   ]
  },
  {
   "cell_type": "code",
   "execution_count": 14,
   "metadata": {},
   "outputs": [],
   "source": [
    "def get_key(ct: list[int]) -> str:\n",
    "    l = []\n",
    "    for i in [0, 1, 2, 3, 4, 5, 6, 7, 9, 14]:\n",
    "        l.append(ct[i])\n",
    "    return str(l)"
   ]
  },
  {
   "cell_type": "markdown",
   "metadata": {},
   "source": [
    "We can fix a message and modify only certain active nibbles (see figure)."
   ]
  },
  {
   "cell_type": "code",
   "execution_count": 15,
   "metadata": {},
   "outputs": [],
   "source": [
    "msg = [random.randint(0, 15) for _ in range(16)]"
   ]
  },
  {
   "cell_type": "code",
   "execution_count": 16,
   "metadata": {},
   "outputs": [],
   "source": [
    "couples = []"
   ]
  },
  {
   "cell_type": "code",
   "execution_count": 50,
   "metadata": {},
   "outputs": [
    {
     "data": {
      "application/vnd.jupyter.widget-view+json": {
       "model_id": "c773d5218a0c434785dc4cc0a1b09e09",
       "version_major": 2,
       "version_minor": 0
      },
      "text/plain": [
       "  0%|          | 0/16777216 [00:00<?, ?it/s]"
      ]
     },
     "metadata": {},
     "output_type": "display_data"
    }
   ],
   "source": [
    "hash_table: dict[str, list[int]] = {}\n",
    "\n",
    "nibbles = [(n1, n2, n3, n4, n5, n6)\n",
    "           for n1 in range(16)\n",
    "           for n2 in range(16)\n",
    "           for n3 in range(16)\n",
    "           for n4 in range(16)\n",
    "           for n5 in range(16)\n",
    "           for n6 in range(16)\n",
    "           ]\n",
    "\n",
    "for (n1, n2, n3, n4, n5, n6) in tqdm(nibbles):\n",
    "    m = [x for x in msg]\n",
    "\n",
    "    m[1] = n1\n",
    "    m[2] = n2\n",
    "    m[7] = n3\n",
    "    m[11] = n4\n",
    "    m[13] = n5\n",
    "    m[14] = n6\n",
    "\n",
    "    midori64_c.encrypt_differential(m, keys)\n",
    "\n",
    "    ct1 = m[8]\n",
    "    ct2 = m[10]\n",
    "    ct3 = m[11]\n",
    "    ct4 = m[12]\n",
    "    ct5 = m[13]\n",
    "    ct6 = m[15]\n",
    "\n",
    "    # if has_pattern_differential(m):\n",
    "    # couples.append([n1, n2, n3, n4, n5, n6, ct1, ct2, ct3, ct4, ct5, ct6])\n",
    "    delta = get_key(m)\n",
    "    if delta in hash_table:\n",
    "        hash_table[delta].append([n1, n2, n3, n4, n5, n6, ct1, ct2, ct3, ct4, ct5, ct6])\n",
    "    else:\n",
    "        hash_table[delta] = [[n1, n2, n3, n4, n5, n6, ct1, ct2, ct3, ct4, ct5, ct6]]\n"
   ]
  },
  {
   "cell_type": "code",
   "execution_count": 51,
   "metadata": {},
   "outputs": [
    {
     "data": {
      "text/plain": [
       "65536"
      ]
     },
     "execution_count": 51,
     "metadata": {},
     "output_type": "execute_result"
    }
   ],
   "source": [
    "len(hash_table)"
   ]
  },
  {
   "cell_type": "code",
   "execution_count": 52,
   "metadata": {},
   "outputs": [],
   "source": [
    "def get_key_guess(n1: list[int], n2: list[int]) -> str:\n",
    "\n",
    "    for i in range(16):\n",
    "        if n1[i] == n2[i]:\n",
    "            return None\n",
    "\n",
    "    for k1 in range(16):\n",
    "        if S_BOX[n1[0] ^ k1] ^ S_BOX[n2[0] ^ k1] != 2:\n",
    "            continue\n",
    "\n",
    "        for k2 in range(16):\n",
    "            if S_BOX[n1[1] ^ k2] ^ S_BOX[n2[1] ^ k2] != 2:\n",
    "                continue\n",
    "\n",
    "            for k3 in range(16):\n",
    "                if S_BOX[n1[2] ^ k3] ^ S_BOX[n2[2] ^ k3] != 2:\n",
    "                    continue\n",
    "\n",
    "                for k4 in range(16):\n",
    "                    if S_BOX[n1[3] ^ k4] ^ S_BOX[n2[3] ^ k4] != 2:\n",
    "                        continue\n",
    "\n",
    "                    for k5 in range(16):\n",
    "                        if S_BOX[n1[4] ^ k5] ^ S_BOX[n2[4] ^ k5] != 2:\n",
    "                            continue\n",
    "\n",
    "                        for k6 in range(16):\n",
    "                            if S_BOX[n1[5] ^ k6] ^ S_BOX[n2[5] ^ k6] != 2:\n",
    "                                continue\n",
    "\n",
    "                            for k7 in range(16):\n",
    "                                if S_BOX[n1[6] ^ k7] ^ S_BOX[n2[6] ^ k7] != 2:\n",
    "                                    continue\n",
    "\n",
    "                                for k8 in range(16):\n",
    "                                    if S_BOX[n1[7] ^ k8] ^ S_BOX[n2[7] ^ k8] != 2:\n",
    "                                        continue\n",
    "\n",
    "                                    for k9 in range(16):\n",
    "                                        if S_BOX[n1[8] ^ k9] ^ S_BOX[n2[8] ^ k9] != 2:\n",
    "                                            continue\n",
    "\n",
    "                                        for k10 in range(16):\n",
    "                                            if S_BOX[n1[9] ^ k10] ^ S_BOX[n2[9] ^ k10] != 2:\n",
    "                                                continue\n",
    "\n",
    "                                            for k11 in range(16):\n",
    "                                                if S_BOX[n1[10] ^ k11] ^ S_BOX[n2[10] ^ k11] != 2:\n",
    "                                                    continue\n",
    "\n",
    "                                                for k12 in range(16):\n",
    "                                                    if S_BOX[n1[11] ^ k12] ^ S_BOX[n2[11] ^ k12] != 2:\n",
    "                                                        continue\n",
    "                                                    return [str([k1, k2, k3, k4, k5, k6, k7, k8, k9, k10, k11, k12])]\n",
    "\n",
    "    return None"
   ]
  },
  {
   "cell_type": "code",
   "execution_count": 53,
   "metadata": {},
   "outputs": [
    {
     "data": {
      "application/vnd.jupyter.widget-view+json": {
       "model_id": "374bba4df8624f49bdd2fd3bdc745d63",
       "version_major": 2,
       "version_minor": 0
      },
      "text/plain": [
       "  0%|          | 0/65536 [00:00<?, ?it/s]"
      ]
     },
     "metadata": {},
     "output_type": "display_data"
    }
   ],
   "source": [
    "key_guesses = {}\n",
    "\n",
    "for nibbles in tqdm(hash_table):\n",
    "    for n1 in hash_table[nibbles]:\n",
    "        for n2 in hash_table[nibbles]:\n",
    "            if n1 == n2:\n",
    "                continue\n",
    "\n",
    "            key_guess = get_key_guess(n1, n2)\n",
    "\n",
    "            if key_guess is not None:\n",
    "                print(\"GUESSED\")\n",
    "                if key_guess in key_guesses:\n",
    "                    key_guesses[key_guess] += 1\n",
    "                else:\n",
    "                    key_guesses[key_guess] = 1"
   ]
  },
  {
   "cell_type": "code",
   "execution_count": null,
   "metadata": {},
   "outputs": [
    {
     "data": {
      "text/plain": [
       "0"
      ]
     },
     "execution_count": 96,
     "metadata": {},
     "output_type": "execute_result"
    }
   ],
   "source": [
    "hash_table"
   ]
  },
  {
   "cell_type": "code",
   "execution_count": 25,
   "metadata": {},
   "outputs": [
    {
     "data": {
      "text/plain": [
       "('[11, 15, 15, 4, 15, 5, 9, 15, 7, 9]',\n",
       " [[15, 15, 15, 1, 1, 9, 15, 6, 1, 3, 1, 3],\n",
       "  [15, 15, 15, 2, 1, 9, 15, 6, 2, 3, 1, 3],\n",
       "  [15, 15, 15, 2, 3, 9, 15, 6, 2, 3, 3, 3],\n",
       "  [15, 15, 15, 2, 7, 9, 15, 6, 2, 3, 7, 3],\n",
       "  [15, 15, 15, 4, 5, 9, 15, 6, 4, 3, 5, 3],\n",
       "  [15, 15, 15, 4, 7, 9, 15, 6, 4, 3, 7, 3],\n",
       "  [15, 15, 15, 4, 8, 9, 15, 6, 4, 3, 8, 3],\n",
       "  [15, 15, 15, 4, 15, 9, 15, 6, 4, 3, 15, 3],\n",
       "  [15, 15, 15, 5, 1, 9, 15, 6, 5, 3, 1, 3],\n",
       "  [15, 15, 15, 5, 2, 9, 15, 6, 5, 3, 2, 3],\n",
       "  [15, 15, 15, 5, 4, 9, 15, 6, 5, 3, 4, 3],\n",
       "  [15, 15, 15, 5, 9, 9, 15, 6, 5, 3, 9, 3],\n",
       "  [15, 15, 15, 5, 10, 9, 15, 6, 5, 3, 10, 3],\n",
       "  [15, 15, 15, 5, 11, 9, 15, 6, 5, 3, 11, 3],\n",
       "  [15, 15, 15, 6, 2, 9, 15, 6, 6, 3, 2, 3],\n",
       "  [15, 15, 15, 6, 11, 9, 15, 6, 6, 3, 11, 3],\n",
       "  [15, 15, 15, 6, 13, 9, 15, 6, 6, 3, 13, 3],\n",
       "  [15, 15, 15, 7, 9, 9, 15, 6, 7, 3, 9, 3],\n",
       "  [15, 15, 15, 7, 12, 9, 15, 6, 7, 3, 12, 3],\n",
       "  [15, 15, 15, 8, 14, 9, 15, 6, 8, 3, 14, 3],\n",
       "  [15, 15, 15, 9, 3, 9, 15, 6, 9, 3, 3, 3],\n",
       "  [15, 15, 15, 9, 8, 9, 15, 6, 9, 3, 8, 3],\n",
       "  [15, 15, 15, 9, 9, 9, 15, 6, 9, 3, 9, 3],\n",
       "  [15, 15, 15, 10, 3, 9, 15, 6, 10, 3, 3, 3],\n",
       "  [15, 15, 15, 10, 8, 9, 15, 6, 10, 3, 8, 3],\n",
       "  [15, 15, 15, 10, 15, 9, 15, 6, 10, 3, 15, 3],\n",
       "  [15, 15, 15, 11, 1, 9, 15, 6, 11, 3, 1, 3],\n",
       "  [15, 15, 15, 11, 7, 9, 15, 6, 11, 3, 7, 3],\n",
       "  [15, 15, 15, 11, 11, 9, 15, 6, 11, 3, 11, 3],\n",
       "  [15, 15, 15, 11, 13, 9, 15, 6, 11, 3, 13, 3],\n",
       "  [15, 15, 15, 12, 3, 9, 15, 6, 12, 3, 3, 3],\n",
       "  [15, 15, 15, 12, 12, 9, 15, 6, 12, 3, 12, 3],\n",
       "  [15, 15, 15, 12, 15, 9, 15, 6, 12, 3, 15, 3],\n",
       "  [15, 15, 15, 13, 0, 9, 15, 6, 13, 3, 0, 3],\n",
       "  [15, 15, 15, 13, 6, 9, 15, 6, 13, 3, 6, 3],\n",
       "  [15, 15, 15, 14, 1, 9, 15, 6, 14, 3, 1, 3],\n",
       "  [15, 15, 15, 14, 8, 9, 15, 6, 14, 3, 8, 3],\n",
       "  [15, 15, 15, 15, 1, 9, 15, 6, 15, 3, 1, 3],\n",
       "  [15, 15, 15, 15, 4, 9, 15, 6, 15, 3, 4, 3],\n",
       "  [15, 15, 15, 15, 7, 9, 15, 6, 15, 3, 7, 3],\n",
       "  [15, 15, 15, 15, 14, 9, 15, 6, 15, 3, 14, 3]])"
      ]
     },
     "execution_count": 25,
     "metadata": {},
     "output_type": "execute_result"
    }
   ],
   "source": [
    "max([(k, hash_table[k]) for k in hash_table], key=lambda x: x[1])"
   ]
  },
  {
   "cell_type": "code",
   "execution_count": 63,
   "metadata": {},
   "outputs": [],
   "source": [
    "nibbles = '[11, 15, 15, 4, 15, 5, 9, 15, 7, 9]'\n",
    "for n1 in hash_table[nibbles]:\n",
    "        for n2 in hash_table[nibbles]:\n",
    "            for i in range(1):\n",
    "                if n1[i] == n2[i]:\n",
    "                    break\n",
    "            else:\n",
    "                print(\"FOUND\", n1, n2)"
   ]
  },
  {
   "cell_type": "code",
   "execution_count": null,
   "metadata": {},
   "outputs": [
    {
     "data": {
      "text/plain": [
       "['[11, 0, 0, 4, 15, 5, 9, 0, 7, 0]',\n",
       " '[11, 0, 0, 4, 15, 5, 9, 0, 7, 2]',\n",
       " '[11, 0, 0, 4, 15, 5, 9, 0, 7, 15]',\n",
       " '[11, 0, 0, 4, 15, 5, 9, 0, 7, 6]',\n",
       " '[11, 0, 0, 4, 15, 5, 9, 0, 7, 7]',\n",
       " '[11, 0, 0, 4, 15, 5, 9, 0, 7, 13]',\n",
       " '[11, 0, 0, 4, 15, 5, 9, 0, 7, 1]',\n",
       " '[11, 0, 0, 4, 15, 5, 9, 0, 7, 3]',\n",
       " '[11, 0, 0, 4, 15, 5, 9, 0, 7, 4]',\n",
       " '[11, 0, 0, 4, 15, 5, 9, 0, 7, 8]']"
      ]
     },
     "execution_count": 92,
     "metadata": {},
     "output_type": "execute_result"
    }
   ],
   "source": [
    "list(hash_table)[:10]"
   ]
  },
  {
   "cell_type": "code",
   "execution_count": 24,
   "metadata": {},
   "outputs": [
    {
     "data": {
      "text/plain": [
       "[[0, 0, 0, 15, 15, 0, 15, 6, 15, 3, 15, 3],\n",
       " [0, 0, 0, 15, 14, 0, 15, 6, 15, 3, 14, 3],\n",
       " [0, 0, 0, 15, 8, 0, 15, 6, 15, 3, 8, 3],\n",
       " [0, 0, 0, 15, 4, 0, 15, 6, 15, 3, 4, 3],\n",
       " [0, 0, 0, 14, 10, 0, 15, 6, 14, 3, 10, 3],\n",
       " [0, 0, 0, 14, 7, 0, 15, 6, 14, 3, 7, 3],\n",
       " [0, 0, 0, 14, 0, 0, 15, 6, 14, 3, 0, 3],\n",
       " [0, 0, 0, 13, 8, 0, 15, 6, 13, 3, 8, 3],\n",
       " [0, 0, 0, 13, 4, 0, 15, 6, 13, 3, 4, 3],\n",
       " [0, 0, 0, 13, 0, 0, 15, 6, 13, 3, 0, 3],\n",
       " [0, 0, 0, 12, 15, 0, 15, 6, 12, 3, 15, 3],\n",
       " [0, 0, 0, 12, 9, 0, 15, 6, 12, 3, 9, 3],\n",
       " [0, 0, 0, 12, 7, 0, 15, 6, 12, 3, 7, 3],\n",
       " [0, 0, 0, 12, 5, 0, 15, 6, 12, 3, 5, 3],\n",
       " [0, 0, 0, 11, 3, 0, 15, 6, 11, 3, 3, 3],\n",
       " [0, 0, 0, 10, 7, 0, 15, 6, 10, 3, 7, 3],\n",
       " [0, 0, 0, 10, 1, 0, 15, 6, 10, 3, 1, 3],\n",
       " [0, 0, 0, 9, 4, 0, 15, 6, 9, 3, 4, 3],\n",
       " [0, 0, 0, 8, 10, 0, 15, 6, 8, 3, 10, 3],\n",
       " [0, 0, 0, 8, 2, 0, 15, 6, 8, 3, 2, 3],\n",
       " [0, 0, 0, 7, 0, 0, 15, 6, 7, 3, 0, 3],\n",
       " [0, 0, 0, 6, 7, 0, 15, 6, 6, 3, 7, 3],\n",
       " [0, 0, 0, 6, 5, 0, 15, 6, 6, 3, 5, 3],\n",
       " [0, 0, 0, 5, 12, 0, 15, 6, 5, 3, 12, 3],\n",
       " [0, 0, 0, 5, 9, 0, 15, 6, 5, 3, 9, 3],\n",
       " [0, 0, 0, 5, 8, 0, 15, 6, 5, 3, 8, 3],\n",
       " [0, 0, 0, 5, 0, 0, 15, 6, 5, 3, 0, 3],\n",
       " [0, 0, 0, 4, 14, 0, 15, 6, 4, 3, 14, 3],\n",
       " [0, 0, 0, 4, 12, 0, 15, 6, 4, 3, 12, 3],\n",
       " [0, 0, 0, 4, 8, 0, 15, 6, 4, 3, 8, 3],\n",
       " [0, 0, 0, 4, 2, 0, 15, 6, 4, 3, 2, 3],\n",
       " [0, 0, 0, 3, 15, 0, 15, 6, 3, 3, 15, 3],\n",
       " [0, 0, 0, 3, 12, 0, 15, 6, 3, 3, 12, 3],\n",
       " [0, 0, 0, 3, 11, 0, 15, 6, 3, 3, 11, 3],\n",
       " [0, 0, 0, 3, 5, 0, 15, 6, 3, 3, 5, 3],\n",
       " [0, 0, 0, 3, 1, 0, 15, 6, 3, 3, 1, 3],\n",
       " [0, 0, 0, 2, 11, 0, 15, 6, 2, 3, 11, 3],\n",
       " [0, 0, 0, 1, 15, 0, 15, 6, 1, 3, 15, 3],\n",
       " [0, 0, 0, 1, 7, 0, 15, 6, 1, 3, 7, 3],\n",
       " [0, 0, 0, 1, 1, 0, 15, 6, 1, 3, 1, 3],\n",
       " [0, 0, 0, 0, 12, 0, 15, 6, 0, 3, 12, 3],\n",
       " [0, 0, 0, 0, 8, 0, 15, 6, 0, 3, 8, 3],\n",
       " [0, 0, 0, 0, 5, 0, 15, 6, 0, 3, 5, 3],\n",
       " [0, 0, 0, 0, 0, 0, 15, 6, 0, 3, 0, 3],\n",
       " [0, 0, 0, 15, 13, 0, 15, 6, 15, 3, 13, 3],\n",
       " [0, 0, 0, 15, 4, 0, 15, 6, 15, 3, 4, 3],\n",
       " [0, 0, 0, 15, 3, 0, 15, 6, 15, 3, 3, 3],\n",
       " [0, 0, 0, 14, 0, 0, 15, 6, 14, 3, 0, 3],\n",
       " [0, 0, 0, 13, 14, 0, 15, 6, 13, 3, 14, 3],\n",
       " [0, 0, 0, 13, 9, 0, 15, 6, 13, 3, 9, 3],\n",
       " [0, 0, 0, 13, 7, 0, 15, 6, 13, 3, 7, 3],\n",
       " [0, 0, 0, 13, 6, 0, 15, 6, 13, 3, 6, 3],\n",
       " [0, 0, 0, 12, 3, 0, 15, 6, 12, 3, 3, 3],\n",
       " [0, 0, 0, 12, 1, 0, 15, 6, 12, 3, 1, 3],\n",
       " [0, 0, 0, 11, 12, 0, 15, 6, 11, 3, 12, 3],\n",
       " [0, 0, 0, 11, 9, 0, 15, 6, 11, 3, 9, 3],\n",
       " [0, 0, 0, 10, 6, 0, 15, 6, 10, 3, 6, 3],\n",
       " [0, 0, 0, 10, 2, 0, 15, 6, 10, 3, 2, 3],\n",
       " [0, 0, 0, 10, 1, 0, 15, 6, 10, 3, 1, 3],\n",
       " [0, 0, 0, 9, 9, 0, 15, 6, 9, 3, 9, 3],\n",
       " [0, 0, 0, 8, 15, 0, 15, 6, 8, 3, 15, 3],\n",
       " [0, 0, 0, 8, 11, 0, 15, 6, 8, 3, 11, 3],\n",
       " [0, 0, 0, 8, 4, 0, 15, 6, 8, 3, 4, 3],\n",
       " [0, 0, 0, 8, 3, 0, 15, 6, 8, 3, 3, 3],\n",
       " [0, 0, 0, 8, 2, 0, 15, 6, 8, 3, 2, 3],\n",
       " [0, 0, 0, 7, 10, 0, 15, 6, 7, 3, 10, 3],\n",
       " [0, 0, 0, 7, 6, 0, 15, 6, 7, 3, 6, 3],\n",
       " [0, 0, 0, 7, 4, 0, 15, 6, 7, 3, 4, 3],\n",
       " [0, 0, 0, 7, 0, 0, 15, 6, 7, 3, 0, 3],\n",
       " [0, 0, 0, 5, 10, 0, 15, 6, 5, 3, 10, 3],\n",
       " [0, 0, 0, 5, 7, 0, 15, 6, 5, 3, 7, 3],\n",
       " [0, 0, 0, 5, 1, 0, 15, 6, 5, 3, 1, 3],\n",
       " [0, 0, 0, 3, 13, 0, 15, 6, 3, 3, 13, 3],\n",
       " [0, 0, 0, 3, 5, 0, 15, 6, 3, 3, 5, 3],\n",
       " [0, 0, 0, 3, 2, 0, 15, 6, 3, 3, 2, 3],\n",
       " [0, 0, 0, 3, 1, 0, 15, 6, 3, 3, 1, 3],\n",
       " [0, 0, 0, 2, 14, 0, 15, 6, 2, 3, 14, 3],\n",
       " [0, 0, 0, 2, 13, 0, 15, 6, 2, 3, 13, 3],\n",
       " [0, 0, 0, 2, 8, 0, 15, 6, 2, 3, 8, 3],\n",
       " [0, 0, 0, 2, 6, 0, 15, 6, 2, 3, 6, 3],\n",
       " [0, 0, 0, 2, 5, 0, 15, 6, 2, 3, 5, 3],\n",
       " [0, 0, 0, 2, 3, 0, 15, 6, 2, 3, 3, 3],\n",
       " [0, 0, 0, 1, 13, 0, 15, 6, 1, 3, 13, 3],\n",
       " [0, 0, 0, 1, 9, 0, 15, 6, 1, 3, 9, 3],\n",
       " [0, 0, 0, 1, 6, 0, 15, 6, 1, 3, 6, 3],\n",
       " [0, 0, 0, 1, 5, 0, 15, 6, 1, 3, 5, 3],\n",
       " [0, 0, 0, 1, 3, 0, 15, 6, 1, 3, 3, 3],\n",
       " [0, 0, 0, 1, 2, 0, 15, 6, 1, 3, 2, 3],\n",
       " [0, 0, 0, 1, 1, 0, 15, 6, 1, 3, 1, 3],\n",
       " [0, 0, 0, 0, 15, 0, 15, 6, 0, 3, 15, 3],\n",
       " [0, 0, 0, 0, 13, 0, 15, 6, 0, 3, 13, 3],\n",
       " [0, 0, 0, 0, 11, 0, 15, 6, 0, 3, 11, 3],\n",
       " [0, 0, 0, 0, 10, 0, 15, 6, 0, 3, 10, 3],\n",
       " [0, 0, 0, 0, 0, 0, 15, 6, 0, 3, 0, 3]]"
      ]
     },
     "execution_count": 24,
     "metadata": {},
     "output_type": "execute_result"
    }
   ],
   "source": [
    "hash_table['[11, 0, 0, 4, 15, 5, 9, 0, 7, 0]'][::-1]"
   ]
  },
  {
   "cell_type": "code",
   "execution_count": null,
   "metadata": {},
   "outputs": [],
   "source": []
  }
 ],
 "metadata": {
  "kernelspec": {
   "display_name": ".venv",
   "language": "python",
   "name": "python3"
  },
  "language_info": {
   "codemirror_mode": {
    "name": "ipython",
    "version": 3
   },
   "file_extension": ".py",
   "mimetype": "text/x-python",
   "name": "python",
   "nbconvert_exporter": "python",
   "pygments_lexer": "ipython3",
   "version": "3.11.7"
  }
 },
 "nbformat": 4,
 "nbformat_minor": 2
}
