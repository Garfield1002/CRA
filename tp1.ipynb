{
 "cells": [
  {
   "cell_type": "code",
   "execution_count": 1,
   "metadata": {},
   "outputs": [],
   "source": [
    "from midori64 import *\n",
    "import random\n",
    "from tqdm import tqdm"
   ]
  },
  {
   "cell_type": "code",
   "execution_count": 2,
   "metadata": {},
   "outputs": [],
   "source": [
    "random.seed(0xdead)"
   ]
  },
  {
   "cell_type": "code",
   "execution_count": 3,
   "metadata": {},
   "outputs": [],
   "source": [
    "keys = [\n",
    "    [random.randint(0, 15) for _ in range(16)]\n",
    "    for _ in range(10)\n",
    "]"
   ]
  },
  {
   "cell_type": "markdown",
   "metadata": {},
   "source": [
    "# Day 1 - Morning"
   ]
  },
  {
   "cell_type": "markdown",
   "metadata": {},
   "source": [
    "![](./midori.dark.drawio.png)"
   ]
  },
  {
   "cell_type": "markdown",
   "metadata": {},
   "source": [
    "## Question 1"
   ]
  },
  {
   "cell_type": "markdown",
   "metadata": {},
   "source": [
    "Evaluer la propriete _balanced_ sur les 4 bits\n",
    "- Après 1 tour, quels sont les nibbles equilibrés ?\n",
    "- Après 2 tour, quels sont les nibbles equilibrés ?\n",
    "- Après 3 tour, quels sont les nibbles equilibrés ?\n",
    "- Après 4 tour, quels sont les nibbles equilibrés ?"
   ]
  },
  {
   "cell_type": "code",
   "execution_count": 4,
   "metadata": {},
   "outputs": [],
   "source": [
    "def draw_balanced(arr, false_char = '░', true_char = '█', label=None):\n",
    "    '''\n",
    "    Draws a grid filling up the balanced cells\n",
    "    '''\n",
    "    for y in range(4):\n",
    "        for x in range(4):\n",
    "            c = true_char if arr[y * 4 + x] else false_char\n",
    "            print(f'{c}', end='')\n",
    "        print('\\n', end='')\n",
    "    print(f'{label}')"
   ]
  },
  {
   "cell_type": "code",
   "execution_count": 5,
   "metadata": {},
   "outputs": [
    {
     "name": "stdout",
     "output_type": "stream",
     "text": [
      "████\n",
      "████\n",
      "████\n",
      "████\n",
      "Round 1\n",
      "\n",
      "████\n",
      "████\n",
      "████\n",
      "████\n",
      "Round 2\n",
      "\n",
      "████\n",
      "████\n",
      "████\n",
      "████\n",
      "Round 3\n",
      "\n",
      "█░░░\n",
      "░░░░\n",
      "░░░░\n",
      "░░░░\n",
      "Round 4\n",
      "\n"
     ]
    }
   ],
   "source": [
    "msgs = [[random.randint(0, 15) for _ in range(16)] for _ in range(64)]\n",
    "# msg = [15, 6, 15, 2, 0, 13, 12, 15, 10, 7, 11, 2, 2, 6, 11, 1]\n",
    "\n",
    "for r in range(1, 5):\n",
    "    isBalanced = [True for _ in range(16)]\n",
    "\n",
    "    for msg in msgs:\n",
    "        cts = []\n",
    "\n",
    "        for nibble in range(16):\n",
    "            m = [x for x in msg]\n",
    "            m[0] = nibble\n",
    "            cts.append(encrypt(m, r, keys))\n",
    "\n",
    "\n",
    "        res = [0 for _ in range(16)]\n",
    "        for key_guess in range(16):\n",
    "            for ct in cts:\n",
    "                res[key_guess] ^= ct[key_guess]\n",
    "\n",
    "        isBalanced = [(r & 0b1111) == 0  and b for r, b in zip(res, isBalanced)]\n",
    "\n",
    "    draw_balanced(isBalanced, label=f'Round {r}\\n')"
   ]
  },
  {
   "cell_type": "markdown",
   "metadata": {},
   "source": [
    "Balanced cells are represented as `'█'` whereas unbalanced cells are represented as `'░'`"
   ]
  },
  {
   "cell_type": "markdown",
   "metadata": {},
   "source": [
    "Running this cell multiple times, we realize that:\n",
    "- **in rounds 1, 2 and 3 all the cells are balanced**.\n",
    "- In round 4, the balanced rounds change with different executions. It seems that only the **first cell is balanced**"
   ]
  },
  {
   "cell_type": "markdown",
   "metadata": {},
   "source": [
    "## Question 2"
   ]
  },
  {
   "cell_type": "markdown",
   "metadata": {},
   "source": [
    "Monter une attaque en utilisant le distingueur:\n",
    "- Choisir un nombre de tours R et un nible equilibré\n",
    "- Ajouter un tour et retrouver les bits de clé impliqué dans le déchiffrement ?."
   ]
  },
  {
   "cell_type": "markdown",
   "metadata": {},
   "source": [
    "In order to only to only have to guess one nibble of the key at a time, we take advantage of the linearity of MixColumn and ShuffleCell to move the key earlier in the process (see diagram).\n",
    "\n",
    "We verify for every key position and every possible value if the cells are still balanced"
   ]
  },
  {
   "cell_type": "markdown",
   "metadata": {},
   "source": [
    "![](./midori_square_attack3.dark.drawio.png)"
   ]
  },
  {
   "cell_type": "code",
   "execution_count": 6,
   "metadata": {},
   "outputs": [],
   "source": [
    "def is_balanced(msgs, draw=False):\n",
    "    '''\n",
    "    Complexity ~ 16 * msgs(len)\n",
    "    '''\n",
    "    res = [0 for _ in range(16)]\n",
    "    for i in range(16):\n",
    "        for msg in msgs:\n",
    "            res[i] ^= msg[i]\n",
    "\n",
    "    isBalanced = [(r & 0b1111) == 0 for r in res]\n",
    "    if draw:\n",
    "        draw_balanced(isBalanced)\n",
    "    return isBalanced"
   ]
  },
  {
   "cell_type": "code",
   "execution_count": 7,
   "metadata": {},
   "outputs": [
    {
     "name": "stderr",
     "output_type": "stream",
     "text": [
      "100%|██████████| 16/16 [00:00<00:00, 217.02it/s]\n"
     ]
    }
   ],
   "source": [
    "# We wil attempt to retrieve the round key 4\n",
    "# By reverting one round, we should be balanced\n",
    "msgs = [[random.randint(0, 15) for _ in range(16)] for _ in range(16)]\n",
    "\n",
    "GUESSED_KEY = [0 for _ in range(16)]\n",
    "\n",
    "\n",
    "# Builds a table of delta_sets, inverting mixColumns and shuffleCells\n",
    "delta_sets = []\n",
    "\n",
    "# Iterate over messages\n",
    "for msg in msgs:\n",
    "    '''\n",
    "    complexity ~ len(msgs) * 4 * 16\n",
    "    '''\n",
    "    # Change nibble position to guess bytes 6, 7, 9 and 11\n",
    "    for n_pos in range(4):\n",
    "        delta_set = []\n",
    "\n",
    "        for nibble in range(16):\n",
    "            m = [x for x in msg]\n",
    "            m[n_pos] = nibble\n",
    "\n",
    "            ct = encrypt(m, 4, keys)\n",
    "            # Revert one turn\n",
    "            delta_set.append(invShuffleCell(mixColumns(ct)))\n",
    "\n",
    "        delta_sets.append(delta_set)\n",
    "\n",
    "\n",
    "# Iterate over key positions\n",
    "for key_pos in tqdm(range(16)):\n",
    "    '''\n",
    "    Complexity ~ 16 * 16 * (len(delta_sets) = 64) * (len(delta_set) = 16)\n",
    "    '''\n",
    "    k4_guess = [0 for _ in range(16)]\n",
    "\n",
    "    # Iterate over key guesses\n",
    "    for key_guess in range(16):\n",
    "        k4_guess[key_pos] = key_guess\n",
    "\n",
    "        for delta_set in delta_sets:\n",
    "            guesses = [subCell(addRoundKey(guess, k4_guess)) for guess in delta_set]\n",
    "\n",
    "            if not is_balanced(guesses)[key_pos]:\n",
    "                break\n",
    "\n",
    "        else:\n",
    "            # If it is balanced for all positions and messages it's probably right\n",
    "            GUESSED_KEY[key_pos] = key_guess\n",
    "            break"
   ]
  },
  {
   "cell_type": "code",
   "execution_count": 8,
   "metadata": {},
   "outputs": [],
   "source": [
    "assert keys[3] == mixColumns(shuffleCell(GUESSED_KEY))"
   ]
  },
  {
   "cell_type": "markdown",
   "metadata": {},
   "source": [
    "This attack succeeds with a complexity of ~$2^{14}$ instead of ~$2^{64}$ (complexity of brute force on 4 turns)"
   ]
  },
  {
   "cell_type": "markdown",
   "metadata": {},
   "source": [
    "## Question 3"
   ]
  },
  {
   "cell_type": "markdown",
   "metadata": {},
   "source": [
    "Ajouter un tour avant et faire les sommes partielles"
   ]
  },
  {
   "cell_type": "markdown",
   "metadata": {},
   "source": [
    "We want to add a new turn at the very beginning which will then provide us with the delta set we had in the previous exercise. The following graph helps to understand the attack\n",
    "![](./midori_square_attack4_dark.drawio.png)"
   ]
  },
  {
   "cell_type": "code",
   "execution_count": 9,
   "metadata": {},
   "outputs": [
    {
     "name": "stderr",
     "output_type": "stream",
     "text": [
      " 12%|█▎        | 1/8 [00:00<00:04,  1.59it/s]"
     ]
    },
    {
     "name": "stderr",
     "output_type": "stream",
     "text": [
      "100%|██████████| 8/8 [00:04<00:00,  1.77it/s]"
     ]
    },
    {
     "name": "stdout",
     "output_type": "stream",
     "text": [
      "Guessing key index 0 (correct value: 7)\n",
      "5 7 13 15 \n",
      "\n",
      "Guessing key index 1 (correct value: 9)\n",
      "1 3 9 11 \n",
      "\n",
      "Guessing key index 2 (correct value: 4)\n",
      "4 6 12 14 \n",
      "\n",
      "Guessing key index 3 (correct value: 8)\n",
      "0 2 8 10 \n",
      "\n",
      "Guessing key index 4 (correct value: 7)\n",
      "5 7 13 15 \n",
      "\n",
      "Guessing key index 5 (correct value: 0)\n",
      "0 2 8 10 \n",
      "\n",
      "Guessing key index 6 (correct value: 13)\n",
      "5 7 13 15 \n",
      "\n",
      "Guessing key index 7 (correct value: 13)\n",
      "5 7 13 15 \n",
      "\n",
      "Guessing key index 8 (correct value: 4)\n",
      "4 6 12 14 \n",
      "\n",
      "Guessing key index 9 (correct value: 4)\n",
      "0 1 2 3 4 5 6 7 8 9 10 11 12 13 14 15 \n",
      "\n",
      "Guessing key index 10 (correct value: 10)\n",
      "0 2 8 10 \n",
      "\n",
      "Guessing key index 11 (correct value: 12)\n",
      "4 6 12 14 \n",
      "\n",
      "Guessing key index 12 (correct value: 4)\n",
      "4 6 12 14 \n",
      "\n",
      "Guessing key index 13 (correct value: 1)\n",
      "0 1 2 3 4 5 6 7 8 9 10 11 12 13 14 15 \n",
      "\n",
      "Guessing key index 14 (correct value: 8)\n",
      "0 2 8 10 \n",
      "\n",
      "Guessing key index 15 (correct value: 12)\n",
      "4 6 12 14 \n",
      "\n"
     ]
    },
    {
     "name": "stderr",
     "output_type": "stream",
     "text": [
      "\n"
     ]
    }
   ],
   "source": [
    "# c to speed up large encrypt requests\n",
    "import midori64_c\n",
    "\n",
    "# We wil attempt to retrieve the round key 5\n",
    "# Using partial sums to reduce the amount of cipher texts\n",
    "msgs = [[random.randint(0, 15) for _ in range(16)] for _ in range(8)]\n",
    "\n",
    "GUESSED_KEY = [0 for _ in range(16)]\n",
    "\n",
    "# Builds a containing the partial sums for each message\n",
    "delta_sets = []\n",
    "\n",
    "# Iterate over messages\n",
    "for msg in tqdm(msgs):\n",
    "    '''\n",
    "    Complexity ~ 2 * 16 * 16 * 16 * (len(msgs) = 8) * 16\n",
    "    '''\n",
    "    # iterate over nibble positions like in the previous exercise\n",
    "    for n_pos in range(2): # we don't need all the indexes\n",
    "\n",
    "        # Create our partial sums\n",
    "        delta_set = [[0 for _ in range(16)] for _ in range(16)]\n",
    "\n",
    "        for nibble1 in range(16):\n",
    "            for nibble2 in range(16):\n",
    "                for nibble3 in range(16):\n",
    "                    m = [x for x in msg]\n",
    "                    match n_pos:\n",
    "                        case 0:\n",
    "                            m[7] = nibble1\n",
    "                            m[14] = nibble2\n",
    "                            m[9] = nibble3\n",
    "                        case 1:\n",
    "                            m[10] = nibble1\n",
    "                            m[3] = nibble2\n",
    "                            m[13] = nibble3\n",
    "                        case 2:\n",
    "                            m[5] = nibble1\n",
    "                            m[11] = nibble2\n",
    "                            m[2] = nibble3\n",
    "                        case 3:\n",
    "                            m[15] = nibble1\n",
    "                            m[1] = nibble2\n",
    "                            m[6] = nibble3\n",
    "\n",
    "                    ct = midori64_c.encrypt(m, 5, keys)\n",
    "\n",
    "                    # Revert one turn\n",
    "                    ct = invShuffleCell(mixColumns(ct))\n",
    "\n",
    "                    for i in range(16):\n",
    "                        delta_set[i][ct[i]] ^= 1\n",
    "\n",
    "        delta_sets.append(delta_set)\n",
    "\n",
    "\n",
    "# Iterate over key positions\n",
    "for key_pos in range(16):\n",
    "    '''\n",
    "    Complexity ~16 * (len(delta_sets) = 16) * 16\n",
    "    '''\n",
    "    print(f'Guessing key index {key_pos} (correct value: {invShuffleCell(mixColumns(keys[4]))[key_pos]})')\n",
    "    # Iterate over key guesses\n",
    "    for key_guess in range(16):\n",
    "        for delta_set in delta_sets:\n",
    "            res = 0\n",
    "            for i in range(16):\n",
    "                res ^= delta_set[key_pos][i] * S_BOX[i ^ key_guess]\n",
    "\n",
    "            if res != 0:\n",
    "                break\n",
    "\n",
    "        else:\n",
    "            # If it is balanced for all positions and messages it's probably right\n",
    "            GUESSED_KEY[key_pos] = key_guess\n",
    "            print(key_guess, end=' ')\n",
    "    print('\\n')"
   ]
  },
  {
   "cell_type": "markdown",
   "metadata": {},
   "source": [
    "Unfortunately, we do not have enough constraints to conclude... I feel like we might be missing key relations at this point..\n",
    "\n",
    "In my experimentation I found that different strategies are able to find the key, but none of them corresponded exactly to the expected strategy.\n",
    "\n",
    "The complexity of this attack is ~$2^{20}$ instead of the ~$2^{80}$ (complexity of brute force on 5 turns), it's only a power of $2^6\\times$ more expensive than our previous attack whereas brute force would of cost a factor $2^{16}$."
   ]
  },
  {
   "cell_type": "markdown",
   "metadata": {},
   "source": [
    "## Observation"
   ]
  },
  {
   "cell_type": "markdown",
   "metadata": {},
   "source": [
    "I initially inverted the side of the multiplication for `mixColumns` on my paper so used the indexes `0, 10, 5, 15`. Doing so actually provides the 5th round key. I am unsure why though. This attack has complexity ~$2^{23}$"
   ]
  },
  {
   "cell_type": "code",
   "execution_count": 10,
   "metadata": {},
   "outputs": [
    {
     "name": "stderr",
     "output_type": "stream",
     "text": [
      "100%|██████████| 8/8 [00:31<00:00,  3.88s/it]\n"
     ]
    }
   ],
   "source": [
    "# c to speed up large encrypt requests\n",
    "import midori64_c\n",
    "\n",
    "# We wil attempt to retrieve the round key 5\n",
    "# Using partial sums to reduce the amount of cipher texts\n",
    "msgs = [[random.randint(0, 15) for _ in range(16)] for _ in range(8)]\n",
    "\n",
    "GUESSED_KEY = [0 for _ in range(16)]\n",
    "\n",
    "# Builds a containing the partial sums for each message\n",
    "delta_sets = []\n",
    "\n",
    "# Iterate over messages\n",
    "for msg in tqdm(msgs):\n",
    "    '''\n",
    "    Complexity ~ 16 * 16 * 16 * 16 * (len(msgs) = 8) * 16\n",
    "    '''\n",
    "    # iterate over nibble positions like in the previous exercise\n",
    "    # Create our partial sums\n",
    "    delta_set = [[0 for _ in range(16)] for _ in range(16)]\n",
    "\n",
    "    for nibble0 in range(16):\n",
    "        for nibble1 in range(16):\n",
    "            for nibble2 in range(16):\n",
    "                for nibble3 in range(16):\n",
    "                    m = [x for x in msg]\n",
    "                    m[0] = nibble0\n",
    "                    m[10] = nibble1\n",
    "                    m[5] = nibble2\n",
    "                    m[15] = nibble3\n",
    "\n",
    "                    ct = midori64_c.encrypt(m, 5, keys)\n",
    "\n",
    "                    # Revert one turn\n",
    "                    ct = invShuffleCell(mixColumns(ct))\n",
    "\n",
    "                    for i in range(16):\n",
    "                        delta_set[i][ct[i]] ^= 1\n",
    "\n",
    "    delta_sets.append(delta_set)\n",
    "\n",
    "\n",
    "# Iterate over key positions\n",
    "for key_pos in range(16):\n",
    "    '''\n",
    "    Complexity ~16 * (len(delta_sets) = 16) * 16\n",
    "    '''\n",
    "    # Iterate over key guesses\n",
    "    for key_guess in range(16):\n",
    "        for delta_set in delta_sets:\n",
    "            res = 0\n",
    "            for i in range(16):\n",
    "                res ^= delta_set[key_pos][i] * S_BOX[i ^ key_guess]\n",
    "\n",
    "            if res != 0:\n",
    "                break\n",
    "\n",
    "        else:\n",
    "            # If it is balanced for all positions and messages it's probably right\n",
    "            GUESSED_KEY[key_pos] = key_guess\n"
   ]
  },
  {
   "cell_type": "code",
   "execution_count": 11,
   "metadata": {},
   "outputs": [],
   "source": [
    "assert keys[4] == mixColumns(shuffleCell(GUESSED_KEY))"
   ]
  }
 ],
 "metadata": {
  "kernelspec": {
   "display_name": ".venv",
   "language": "python",
   "name": "python3"
  },
  "language_info": {
   "codemirror_mode": {
    "name": "ipython",
    "version": 3
   },
   "file_extension": ".py",
   "mimetype": "text/x-python",
   "name": "python",
   "nbconvert_exporter": "python",
   "pygments_lexer": "ipython3",
   "version": "3.11.7"
  }
 },
 "nbformat": 4,
 "nbformat_minor": 2
}
